{
 "cells": [
  {
   "cell_type": "code",
   "execution_count": null,
   "metadata": {},
   "outputs": [],
   "source": [
    "import os\n",
    "import sys\n",
    "from pathlib import Path\n",
    "sys.path.insert(0,\"c:\\\\Users\\\\lenovo\\\\Documents\\\\GitHub\\\\o-kidia\")\n",
    "from src.data_manipulation.game_session.game_session import GameSession\n",
    "from src.data_manipulation.game_session.challenge import CrocosMazeChallenge\n",
    "import pandas as pd"
   ]
  },
  {
   "cell_type": "code",
   "execution_count": null,
   "metadata": {},
   "outputs": [],
   "source": [
    "##sys.path.insert(0,\"c:\\\\Users\\\\lenovo\\\\Documents\\\\GitHub\\\\o-kidia\")\n",
    "game_session = GameSession.from_json(os.path.join(\"..\",\"tests\",\"game_session\",\"dummy_data\",\"logs\",\"1.json\"))"
   ]
  },
  {
   "cell_type": "code",
   "execution_count": null,
   "metadata": {},
   "outputs": [],
   "source": [
    "digit_inputs = game_session.to_dataframe().sort_values(by=[\"ts\"], ascending=True)"
   ]
  },
  {
   "cell_type": "code",
   "execution_count": null,
   "metadata": {},
   "outputs": [],
   "source": [
    "digit_inputs[digit_inputs[\"ts\"] > 115]"
   ]
  },
  {
   "cell_type": "code",
   "execution_count": null,
   "metadata": {},
   "outputs": [],
   "source": [
    "import seaborn as sns\n",
    "def plot_challenge(game_session: GameSession, challenge: int, ax=None):\n",
    "    curve = pd.DataFrame.from_records([{\"x\": point[0], \"y\": point[1], \"t\": point[2], \"type\": \"model\"} for point in game_session.sorted_activities[0].challenges[challenge].curve_points()])\n",
    "    curve_user = pd.DataFrame.from_records([{\"x\": point[0], \"y\": point[1], \"t\": point[2], \"type\": \"user\"} for point in game_session.sorted_activities[0].challenges[challenge].digit_curve()])\n",
    "    sns.lineplot(x=\"x\", y=\"y\", data=curve, color=\"red\", ax=ax, sort=False)\n",
    "    sns.lineplot(x=\"x\", y=\"y\", data=curve_user, ax=ax, sort=False)"
   ]
  },
  {
   "cell_type": "code",
   "execution_count": null,
   "metadata": {},
   "outputs": [],
   "source": [
    "import matplotlib.pyplot as plt\n",
    "fig, axis = plt.subplots(5, 3)\n",
    "fig.set_size_inches(20, 20)\n",
    "for challenge in range(len(game_session.sorted_activities[0].challenges)):\n",
    "    plot_challenge(game_session, challenge, axis[challenge // 3, challenge % 3])\n"
   ]
  },
  {
   "cell_type": "code",
   "execution_count": null,
   "metadata": {},
   "outputs": [],
   "source": [
    "import numpy as np\n",
    "plt.figure(figsize=(10, 10))\n",
    "def time_per_sec(x: int):\n",
    "    return np.sqrt(x)\n",
    "\n",
    "sns.scatterplot(x=range(30), y=list(map(time_per_sec, range(30))))\n",
    "plt.xticks(range(30), list(map(str, range(30))))"
   ]
  },
  {
   "cell_type": "code",
   "execution_count": null,
   "metadata": {},
   "outputs": [],
   "source": [
    "import plotly.express as px\n",
    "def plot_3d(game_session: GameSession, challenge: int):\n",
    "    curve = pd.DataFrame.from_records([{\"x\": point[0], \"y\": point[1], \"t\": point[2], \"type\": \"model\"} for point in game_session.sorted_activities[0].challenges[challenge].curve_points()])\n",
    "    curve_user = pd.DataFrame.from_records([{\"x\": point[0], \"y\": point[1], \"t\": point[2], \"type\": \"user\"} for point in game_session.sorted_activities[0].challenges[challenge].digit_curve()])\n",
    "    curve_df = pd.concat([curve, curve_user])\n",
    "    fig = px.line_3d(curve_df, x=\"t\", y=\"x\", z=\"y\", color=\"type\")\n",
    "    fig.show()"
   ]
  },
  {
   "cell_type": "code",
   "execution_count": null,
   "metadata": {},
   "outputs": [],
   "source": [
    "plot_3d(game_session, 0)"
   ]
  },
  {
   "cell_type": "code",
   "execution_count": null,
   "metadata": {},
   "outputs": [],
   "source": [
    "plot_3d(game_session, 3)"
   ]
  },
  {
   "cell_type": "code",
   "execution_count": null,
   "metadata": {},
   "outputs": [],
   "source": [
    "plot_3d(game_session, 12)"
   ]
  },
  {
   "cell_type": "code",
   "execution_count": null,
   "metadata": {},
   "outputs": [],
   "source": [
    "plot_3d(game_session, 13)"
   ]
  },
  {
   "cell_type": "code",
   "execution_count": null,
   "metadata": {},
   "outputs": [],
   "source": [
    "from tslearn.metrics import lcss, dtw ## longest common subsequence et dynamic time wraping"
   ]
  },
  {
   "cell_type": "code",
   "execution_count": null,
   "metadata": {},
   "outputs": [],
   "source": [
    "[lcss(\n",
    "    np.asarray([ (point[0], point[1]) for point in challenge.digit_curve()]),\n",
    "    np.asarray([ (point[0], point[1]) for point in challenge.curve_points()]),\n",
    "    global_constraint=\"itakura\",\n",
    "    itakura_max_slope=4\n",
    ") for challenge in game_session.sorted_activities[0].challenges]"
   ]
  },
  {
   "cell_type": "code",
   "execution_count": null,
   "metadata": {},
   "outputs": [],
   "source": [
    "\n",
    "[1/(1 + dtw(\n",
    "    np.asarray([ (point[0], point[1]) for point in challenge.digit_curve()]),\n",
    "    np.asarray([ (point[0], point[1]) for point in challenge.curve_points()])\n",
    ")) for challenge in game_session.sorted_activities[0].challenges]"
   ]
  },
  {
   "cell_type": "code",
   "execution_count": null,
   "metadata": {},
   "outputs": [],
   "source": [
    "#Test code by Nadim ABOU CHROUCH\n",
    "#Date : 24/03/2022\n",
    "#Creation of folders for each user\n",
    "import os\n",
    "for i  in range (1,71):\n",
    "    os.mkdir(\"Enfant_{}.\".format(i))"
   ]
  },
  {
   "cell_type": "code",
   "execution_count": null,
   "metadata": {},
   "outputs": [],
   "source": [
    "\n",
    "#Test code by Nadim ABOU CHROUCH\n",
    "#Date : 24/03/2022\n",
    "#Test pour la creation des HeatMaps en utilisant np.histogram\n",
    "import matplotlib.cm as cm\n",
    "from scipy.ndimage.filters import gaussian_filter\n",
    "def plot_HeatMap(game_session: GameSession, challenge: int, enfant: int):\n",
    "    curve = pd.DataFrame.from_records([{\"x_model\": point[0], \"y_model\": point[1]} for point in game_session.sorted_activities[0].challenges[challenge].curve_points()])\n",
    "    curve_user = pd.DataFrame.from_records([{\"x_user\": point[0], \"y_user\": point[1]} for point in game_session.sorted_activities[0].challenges[challenge].digit_curve()])\n",
    "    # print (curve)\n",
    "    # print (curve_user)\n",
    "\n",
    "    data_model = curve.to_numpy();\n",
    "    data_user = curve_user.to_numpy();\n",
    "    x_model = np.zeros(len(data_model))\n",
    "    y_model = np.zeros(len(data_model))\n",
    "    x_user = np.zeros(len(data_user))\n",
    "    y_user = np.zeros(len(data_user))\n",
    "    \n",
    "    for i in range(0,len(data_model)) :\n",
    "        x_model[i] = data_model[i][0]\n",
    "        y_model[i] = data_model[i][1]\n",
    "    #heatmap for model\n",
    "    heatmap,xedges,yedges = np.histogram2d(x_model,y_model,bins=(200,200))\n",
    "    heatmap = gaussian_filter(heatmap, sigma=8)\n",
    "    extent = [xedges[0], xedges[-1], yedges[0], yedges[-1]]\n",
    "    plt.clf()\n",
    "    plt.imshow(heatmap.T, extent=extent, origin='lower',cmap=cm.jet)\n",
    "    plt.title(\"Model\")\n",
    "    plt.savefig(os.path.join('Enfant_{}'.format(enfant), 'HeatMapModel_{}'.format(challenge))) \n",
    "    plt.show()\n",
    "    for i in range(0,len(data_user)) :\n",
    "        x_user[i] = data_user[i][0]\n",
    "        y_user[i] = data_user[i][1]\n",
    "    #heatmap for user\n",
    "    heatmap,xedges,yedges = np.histogram2d(x_user,y_user,bins=(200,200))\n",
    "    heatmap = gaussian_filter(heatmap, sigma=8)\n",
    "    extent = [xedges[0], xedges[-1], yedges[0], yedges[-1]]\n",
    "    plt.clf()\n",
    "    plt.imshow(heatmap.T, extent=extent, origin='lower',cmap=cm.jet)\n",
    "    plt.title(\"User\")\n",
    "    plt.savefig(os.path.join('Enfant_{}'.format(enfant), 'HeatMapUser_{}'.format(challenge))) \n",
    "    plt.show()\n",
    "    \n"
   ]
  },
  {
   "cell_type": "code",
   "execution_count": null,
   "metadata": {},
   "outputs": [],
   "source": [
    "#Test code by Nadim ABOU CHROUCH\n",
    "#Date : 24/03/2022\n",
    "#Test function plot_HeatMap\n",
    "\n",
    "x = plot_HeatMap(game_session,12,1)"
   ]
  },
  {
   "cell_type": "code",
   "execution_count": null,
   "metadata": {},
   "outputs": [],
   "source": [
    "#Test code by Nadim ABOU CHROUCH\n",
    "#Date : 25/03/2022\n",
    "#Creation of function that generate heatmaps and save them\n",
    "def generate_HeatMaps(game_session: GameSession, enfant: int):\n",
    "    for i in range(0,14):\n",
    "        plot_HeatMap(game_session,i,enfant)"
   ]
  },
  {
   "cell_type": "code",
   "execution_count": null,
   "metadata": {},
   "outputs": [],
   "source": [
    "#Test code by Nadim ABOU CHROUCH\n",
    "#Date : 25/03/2022\n",
    "#Test generate_HeatMaps\n",
    "generate_HeatMaps(game_session,1)"
   ]
  },
  {
   "cell_type": "code",
   "execution_count": null,
   "metadata": {},
   "outputs": [],
   "source": [
    "#Test code by Nadim ABOU CHROUCH\n",
    "#Date : 04/04/2022\n",
    "\n",
    "#Creating Heatmaps for each child\n",
    "for i in range (59,61):\n",
    "    game_session = GameSession.from_json(os.path.join(\"..\",\"tests\",\"game_session\",\"dummy_data\",\"logs\",\"{}.json\".format(i)))\n",
    "    generate_HeatMaps(game_session,i)\n",
    "    "
   ]
  },
  {
   "cell_type": "code",
   "execution_count": null,
   "metadata": {},
   "outputs": [],
   "source": [
    "#Test code by Nadim ABOU CHROUCH\n",
    "#Date : 25/03/2022\n",
    "#Studying the Heatmaps\n",
    "\n",
    "from PIL import Image\n",
    "import matplotlib.image as image\n",
    "\n",
    "#Extracting pixels\n",
    "im = Image.open('HeatMapUser_1.png','r')\n",
    "pixel_value = list(im.getdata())\n",
    "#print(pixel_value)\n",
    "pixel_value_flat = [x for sets in pixel_value for x in sets]\n",
    "#print(pixel_value_flat)\n",
    "print (len(pixel_value_flat))\n",
    "\n",
    "#Converting the image into a matrix\n",
    "img=image.imread('HeatMapUser_1.png')\n",
    "print('The Shape of the image is:',img.shape)\n",
    "ar = np.array(img)\n",
    "print('The image as array is:')\n",
    "print(ar)\n"
   ]
  },
  {
   "cell_type": "code",
   "execution_count": null,
   "metadata": {},
   "outputs": [],
   "source": [
    "#Test code by Nadim ABOU CHROUCH\n",
    "#Date : 28/03/2022\n",
    "#VGG 19\n",
    "#VGG using keras\n",
    "from keras.applications.vgg19 import VGG19\n",
    "from keras.preprocessing.image import load_img\n",
    "from keras.preprocessing.image import img_to_array\n",
    "from keras.applications.vgg16 import preprocess_input\n",
    "from keras.applications.vgg16 import decode_predictions\n",
    "\n",
    "model = VGG19()\n",
    "    # load an image from file\n",
    "image = load_img('HeatMapUser_12.png', target_size=(224, 224))\n",
    "    # convert the image pixels to a numpy array\n",
    "image = img_to_array(image)\n",
    "    # reshape data for the model\n",
    "image = image.reshape((1, image.shape[0], image.shape[1], image.shape[2]))\n",
    "    # prepare the image for the VGG model\n",
    "image = preprocess_input(image)\n",
    "\n",
    "    # load an image from file\n",
    "image1 = load_img('HeatMapModel_12.png', target_size=(224, 224))\n",
    "    # convert the image pixels to a numpy array\n",
    "image1 = img_to_array(image1)\n",
    "    # reshape data for the model\n",
    "image1 = image1.reshape((1, image1.shape[0], image1.shape[1], image1.shape[2]))\n",
    "    # prepare the image for the VGG model\n",
    "image1 = preprocess_input(image1)"
   ]
  },
  {
   "cell_type": "code",
   "execution_count": null,
   "metadata": {},
   "outputs": [],
   "source": [
    "\n",
    "\n",
    "#Test code by Nadim ABOU CHROUCH\n",
    "#Date : 28/03/2022\n",
    "#VGG 19\n",
    "# predict the probability across all output classes\n",
    "yhat = model.predict(image)\n",
    "yhat1 = model.predict(image1)\n",
    "# convert the probabilities to class labels\n",
    "label = decode_predictions(yhat)\n",
    "# retrieve the most likely result, e.g. highest probability\n",
    "label = label[0][0]\n",
    "# print the classification\n",
    "print('%s (%.2f%%)' % (label[1], label[2]*100))\n",
    "print (yhat[0][0:10])\n",
    "print (yhat1[0][0:10])\n",
    "# Distance Calculation\n",
    "dist = np.linalg.norm(yhat[0]-yhat1[0])\n",
    "print(dist)\n",
    "\n"
   ]
  },
  {
   "cell_type": "code",
   "execution_count": null,
   "metadata": {},
   "outputs": [],
   "source": [
    "#Test code by Nadim ABOU CHROUCH\n",
    "#Date : 28/03/2022\n",
    "#Converting 1000 features to 100\n",
    "def FeaturesReduction (y):\n",
    "    yhat_red = np.zeros(100)\n",
    "    #print (yhat_red)\n",
    "    i=0;\n",
    "    for j in range(0,100):\n",
    "        yhat_red[j] = sum(y[0][i:i+10])\n",
    "        i += 10\n",
    "    yhat_red = yhat_red/10\n",
    "    #print(yhat_red)\n",
    "    #print (len(yhat_red))\n",
    "    return yhat_red\n"
   ]
  },
  {
   "cell_type": "code",
   "execution_count": null,
   "metadata": {},
   "outputs": [],
   "source": [
    "\n",
    "#Test code by Nadim ABOU CHROUCH\n",
    "#Date : 28/03/2022\n",
    "#Test FeaturesReduction\n",
    "yhat_red = FeaturesReduction(yhat)\n",
    "yhat1_red = FeaturesReduction(yhat1)\n",
    "print(yhat_red)\n",
    "print(yhat1_red)\n",
    "# Distance Calculation\n",
    "dist = np.linalg.norm(yhat_red-yhat1_red)\n",
    "print(dist)"
   ]
  },
  {
   "cell_type": "code",
   "execution_count": null,
   "metadata": {},
   "outputs": [],
   "source": [
    "#len(list(game_session.sorted_activities[0].challenges[10].digit_curve()))\n",
    "len(list(game_session.sorted_activities[0].challenges[10].curve_points()))"
   ]
  },
  {
   "cell_type": "markdown",
   "metadata": {},
   "source": [
    "# Test DTW"
   ]
  },
  {
   "cell_type": "code",
   "execution_count": null,
   "metadata": {},
   "outputs": [],
   "source": [
    "from tslearn.metrics import dtw_path"
   ]
  },
  {
   "cell_type": "code",
   "execution_count": null,
   "metadata": {},
   "outputs": [],
   "source": [
    "path_sims = [dtw_path(\n",
    "    np.asarray([ (point[0], point[1]) for point in challenge.digit_curve()]),\n",
    "    np.asarray([ (point[0], point[1]) for point in challenge.curve_points()])\n",
    ") for challenge in game_session.sorted_activities[0].challenges]"
   ]
  },
  {
   "cell_type": "code",
   "execution_count": null,
   "metadata": {},
   "outputs": [],
   "source": [
    "path_sims"
   ]
  },
  {
   "cell_type": "code",
   "execution_count": null,
   "metadata": {},
   "outputs": [],
   "source": [
    "from scipy.spatial.distance import cdist"
   ]
  },
  {
   "cell_type": "code",
   "execution_count": null,
   "metadata": {},
   "outputs": [],
   "source": [
    "from typing import Tuple\n",
    "def dtw_plot(path_sim: Tuple[list, int], digit_points: np.array, curve_points: np.array, ax=plt):\n",
    "    path, sim = path_sim\n",
    "    ax.plot(digit_points[:, 0], digit_points[:, 1], \"g-\", label='User digits trajectory')\n",
    "    ax.plot(curve_points[:, 0], curve_points[:, 1], \"b-\", label='Optimal trajectory')\n",
    "\n",
    "    for positions in path:\n",
    "        ax.plot(\n",
    "            [\n",
    "                digit_points[positions[0], 0],\n",
    "                curve_points[positions[1], 0]\n",
    "            ],\n",
    "            [\n",
    "                digit_points[positions[0], 1],\n",
    "                curve_points[positions[1], 1]\n",
    "            ],\n",
    "            color='orange',\n",
    "        )\n",
    "\n",
    "    ax.legend()\n",
    "    if (isinstance(ax, plt.Axes)):\n",
    "        ax.set_title(f\"DTW distance: {(1/(1+sim)):.2f}\")\n"
   ]
  },
  {
   "cell_type": "code",
   "execution_count": null,
   "metadata": {},
   "outputs": [],
   "source": [
    "dtw_plot(path_sims[0], np.asarray([ (point[0], point[1]) for point in game_session.sorted_activities[0].challenges[0].digit_curve()]), np.asarray([ (point[0], point[1]) for point in game_session.sorted_activities[0].challenges[0].curve_points()]))"
   ]
  },
  {
   "cell_type": "code",
   "execution_count": null,
   "metadata": {},
   "outputs": [],
   "source": [
    "import matplotlib.pyplot as plt\n",
    "fig, axis = plt.subplots(5, 3)\n",
    "fig.set_size_inches(20, 20)\n",
    "fig.tight_layout()\n",
    "for i, challenge in enumerate(game_session.sorted_activities[0].challenges):\n",
    "    dtw_plot(path_sims[i], np.asarray([ (point[0], point[1]) for point in challenge.digit_curve()]), np.asarray([ (point[0], point[1]) for point in challenge.curve_points()]), axis[i // 3, i % 3])\n"
   ]
  },
  {
   "cell_type": "code",
   "execution_count": null,
   "metadata": {},
   "outputs": [],
   "source": [
    "indicateurs = [\n",
    "    (\"Axel\",\"Attention\", \"Educateur\", 2),\n",
    "    (\"Axel\",\"Attention\", \"Jeu\", 1),\n",
    "    (\"Axel\",\"Mémoire\",\"Educateur\", 1),\n",
    "    (\"Axel\",\"Mémoire\",\"Jeu\", 1),\n",
    "    (\"Axel\",\"Langage\",\"Educateur\", 2),\n",
    "    (\"Axel\",\"Langage\",\"Jeu\", 3),\n",
    "    (\"Axel\",\"Fonctions Executives\",\"Educateur\",1),\n",
    "    (\"Axel\",\"Fonctions Executives\",\"Jeu\",2),\n",
    "    (\"Axel\",\"Capacités visuo-spatiales\",\"Educateur\",2),\n",
    "    (\"Axel\",\"Capacités visuo-spatiales\",\"Jeu\",1),\n",
    "    (\"Axel\",\"Résolution pb\",\"Educateur\",3),\n",
    "    (\"Axel\",\"Résolution pb\",\"Jeu\",2),\n",
    "    (\"Axel\",\"Planification\",\"Educateur\",4),\n",
    "    (\"Axel\",\"Planification\",\"Jeu\",1),\n",
    "    (\"Axel\",\"Habilités sociales\",\"Educateur\",1),\n",
    "    (\"Axel\",\"Habilités sociales\",\"Jeu\",2),\n",
    "    (\"Axel\",\"Motricité\",\"Educateur\",1),\n",
    "    (\"Axel\",\"Motricité\",\"Jeu\",2),\n",
    "    (\"Axel\",\"Emotion\",\"Educateur\",2),\n",
    "    (\"Axel\",\"Meta-cognition\",\"Educateur\",1),\n",
    "]\n",
    "\n",
    "indicateurs = pd.DataFrame(indicateurs, columns=[\"Enfant\",\"Indicateur\", \"Type\", \"Valeur\"])\n",
    "indicateurs"
   ]
  },
  {
   "cell_type": "code",
   "execution_count": null,
   "metadata": {},
   "outputs": [],
   "source": [
    "import plotly.express as px\n",
    "fig = px.sunburst(indicateurs, path=['Enfant', 'Type', 'Indicateur'], values='Valeur')\n",
    "fig.show()"
   ]
  },
  {
   "cell_type": "code",
   "execution_count": null,
   "metadata": {},
   "outputs": [],
   "source": [
    "fig = px.bar_polar(indicateurs, r=\"Valeur\", theta=\"Indicateur\",\n",
    "                   color=\"Type\", template=\"plotly_dark\",\n",
    "                   color_discrete_sequence= px.colors.sequential.Plasma_r,\n",
    "                   )\n",
    "fig.update_layout(\n",
    "    polar = dict(\n",
    "        radialaxis = dict(showticklabels=False, ticks=''),\n",
    "    )\n",
    ")\n",
    "fig.show()"
   ]
  },
  {
   "cell_type": "code",
   "execution_count": null,
   "metadata": {},
   "outputs": [],
   "source": [
    "fig = px.line_polar(indicateurs, r=\"Valeur\", theta=\"Indicateur\",\n",
    "                   color=\"Type\", template=\"plotly_dark\",\n",
    "                   line_close=True,\n",
    "                   color_discrete_sequence= px.colors.sequential.Plasma_r)\n",
    "fig.update_traces(fill='toself')\n",
    "fig.update_layout(\n",
    "    polar = dict(\n",
    "        radialaxis = dict(showticklabels=False, ticks=[-2, -1, 0, 1, 2]),\n",
    "    )\n",
    ")\n",
    "fig.show()"
   ]
  }
 ],
 "metadata": {
  "interpreter": {
   "hash": "0a0c66245a2dcab7d2e4d44ea71f942db8889372f35c1680f2565693281aaf32"
  },
  "kernelspec": {
   "display_name": "Python 3.9.9 64-bit ('venv': venv)",
   "language": "python",
   "name": "python3"
  },
  "language_info": {
   "codemirror_mode": {
    "name": "ipython",
    "version": 3
   },
   "file_extension": ".py",
   "mimetype": "text/x-python",
   "name": "python",
   "nbconvert_exporter": "python",
   "pygments_lexer": "ipython3",
   "version": "3.9.7"
  },
  "orig_nbformat": 4
 },
 "nbformat": 4,
 "nbformat_minor": 2
}
